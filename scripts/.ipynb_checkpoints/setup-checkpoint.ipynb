#!/usr/bin/env python3
"""
Setup Script for Door Lock System
Initializes the project environment and dependencies
"""

import os
import sys
import subprocess
import argparse
import yaml
from pathlib import Path

def run_command(command, description=""):
    """Run a shell command with error handling"""
    print(f"Running: {description or command}")
    try:
        result = subprocess.run(command, shell=True, check=True, 
                              capture_output=True, text=True)
        if result.stdout:
            print(result.stdout)
        return True
    except subprocess.CalledProcessError as e:
        print(f"Error: {e}")
        if e.stderr:
            print(f"Stderr: {e.stderr}")
        return False

def create_directories():
    """Create necessary directories"""
    directories = [
        'logs',
        'models/face_model',
        'models/uniform_model', 
        'models/combined',
        'dataset/faces',
        'dataset/uniforms/compliant',
        'dataset/uniforms/non_compliant',
        'web_dashboard/static/css',
        'web_dashboard/static/js',
        'web_dashboard/static/images'
    ]
    
    print("Creating directories...")
    for directory in directories:
        Path(directory).mkdir(parents=True, exist_ok=True)
        print(f"  ✓ {directory}")

def install_python_dependencies():
    """Install Python dependencies"""
    print("Installing Python dependencies...")
    
    # Upgrade pip first
    if not run_command(f"{sys.executable} -m pip install --upgrade pip", 
                      "Upgrading pip"):
        return False
    
    # Install requirements
    if not run_command(f"{sys.executable} -m pip install -r requirements.txt",
                      "Installing requirements"):
        return False
    
    return True

def setup_configuration():
    """Setup configuration files"""
    print("Setting up configuration...")
    
    # Check if config exists
    if os.path.exists('config/cloud_config.yaml'):
        print("  ✓ Configuration already exists")
        return True
    
    # Create default configuration if not exists
    print("  Creating default configuration...")
    return True

def setup_database():
    """Setup database (create tables, etc.)"""
    print("Setting up database...")
    
    try:
        from cloud_functions.api.database_service import DatabaseService
        
        # Initialize database service
        db_service = DatabaseService()
        
        print("  ✓ Database service initialized")
        return True
    except Exception as e:
        print(f"  ✗ Database setup failed: {e}")
        return False

def download_models():
    """Download pre-trained models"""
    print("Downloading models...")
    
    model_urls = {
        'yolov8n.pt': 'https://github.com/ultralytics/assets/releases/download/v0.0.0/yolov8n.pt'
    }
    
    models_dir = Path('models/uniform_model')
    
    for model_name, url in model_urls.items():
        model_path = models_dir / model_name
        if not model_path.exists():
            try:
                import requests
                print(f"  Downloading {model_name}...")
                
                response = requests.get(url)
                response.raise_for_status()
                
                with open(model_path, 'wb') as f:
                    f.write(response.content)
                
                print(f"  ✓ Downloaded {model_name}")
            except Exception as e:
                print(f"  ✗ Failed to download {model_name}: {e}")
        else:
            print(f"  ✓ {model_name} already exists")
    
    return True

def run_tests():
    """Run basic tests"""
    print("Running basic tests...")
    
    # Test imports
    try:
        import cv2
        import face_recognition
        import numpy as np
        import fastapi
        import streamlit
        print("  ✓ All required packages can be imported")
    except ImportError as e:
        print(f"  ✗ Import error: {e}")
        return False
    
    # Test configuration loading
    try:
        with open('config/cloud_config.yaml', 'r') as f:
            yaml.safe_load(f)
        print("  ✓ Configuration file is valid")
    except Exception as e:
        print(f"  ✗ Configuration error: {e}")
        return False
    
    return True

def create_sample_data():
    """Create sample data for testing"""
    print("Creating sample data...")
    
    # Create sample student data
    sample_students = [
        {
            "student_id": "ST2024001",
            "name": "John Doe",
            "class": "10A",
            "section": "A",
            "roll_number": "15"
        },
        {
            "student_id": "ST2024002", 
            "name": "Jane Smith",
            "class": "10B",
            "section": "B",
            "roll_number": "22"
        }
    ]
    
    # Save sample data
    sample_file = Path('dataset/sample_students.json')
    try:
        import json
        with open(sample_file, 'w') as f:
            json.dump(sample_students, f, indent=2)
        print("  ✓ Sample student data created")
    except Exception as e:
        print(f"  ✗ Failed to create sample data: {e}")
    
    return True

def main():
    """Main setup function"""
    parser = argparse.ArgumentParser(description="Setup Door Lock System")
    parser.add_argument('--skip-deps', action='store_true', 
                       help='Skip dependency installation')
    parser.add_argument('--skip-models', action='store_true',
                       help='Skip model download')
    parser.add_argument('--skip-db', action='store_true',
                       help='Skip database setup')
    
    args = parser.parse_args()
    
    print("🚪 Door Lock System Setup")
    print("=" * 40)
    
    steps = []
    
    # Always create directories and setup config
    steps.extend([
        ("Creating directories", create_directories),
        ("Setting up configuration", setup_configuration),
        ("Creating sample data", create_sample_data)
    ])
    
    # Conditional steps
    if not args.skip_deps:
        steps.append(("Installing dependencies", install_python_dependencies))
    
    if not args.skip_models:
        steps.append(("Downloading models", download_models))
    
    if not args.skip_db:
        steps.append(("Setting up database", setup_database))
    
    steps.append(("Running tests", run_tests))
    
    # Execute steps
    failed_steps = []
    for description, step_func in steps:
        print(f"\n{description}...")
        print("-" * len(description))
        
        try:
            if not step_func():
                failed_steps.append(description)
        except Exception as e:
            print(f"  ✗ Error in {description}: {e}")
            failed_steps.append(description)
    
    # Summary
    print("\n" + "=" * 40)
    print("Setup Summary")
    print("=" * 40)
    
    if not failed_steps:
        print("✅ Setup completed successfully!")
        print("\nNext steps:")
        print("1. Review and update config/cloud_config.yaml")
        print("2. Add student face images to dataset/faces/")
        print("3. Start the system with: python main.py")
    else:
        print("❌ Setup completed with errors:")
        for step in failed_steps:
            print(f"  - {step}")
        print("\nPlease resolve the errors and run setup again.")
        sys.exit(1)

if __name__ == "__main__":
    main()
